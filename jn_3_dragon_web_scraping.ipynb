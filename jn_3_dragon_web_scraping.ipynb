{
 "cells": [
  {
   "cell_type": "markdown",
   "metadata": {},
   "source": [
    "# Importing necessary libraries"
   ]
  },
  {
   "cell_type": "code",
   "execution_count": 208,
   "metadata": {},
   "outputs": [],
   "source": [
    "import pandas as pd\n",
    "import requests\n",
    "import bs4\n",
    "import re\n",
    "import datetime"
   ]
  },
  {
   "cell_type": "markdown",
   "metadata": {},
   "source": [
    "# Extracting the html code"
   ]
  },
  {
   "cell_type": "code",
   "execution_count": 209,
   "metadata": {},
   "outputs": [],
   "source": [
    "url = \"https://en.wikipedia.org/wiki/Dragons%27_Den_(British_TV_programme)#Statistics\""
   ]
  },
  {
   "cell_type": "code",
   "execution_count": 210,
   "metadata": {},
   "outputs": [],
   "source": [
    "resp = requests.get(url).text"
   ]
  },
  {
   "cell_type": "code",
   "execution_count": 211,
   "metadata": {},
   "outputs": [],
   "source": [
    "soup = bs4.BeautifulSoup(resp, \"html.parser\")"
   ]
  },
  {
   "cell_type": "markdown",
   "metadata": {},
   "source": [
    "# Extracting the data"
   ]
  },
  {
   "cell_type": "code",
   "execution_count": 212,
   "metadata": {},
   "outputs": [],
   "source": [
    "tables_list = soup.find_all(\"table\",{\"class\":\"wikitable sortable\"})\n"
   ]
  },
  {
   "cell_type": "code",
   "execution_count": 213,
   "metadata": {},
   "outputs": [],
   "source": [
    "header_list = [th.text.rstrip() for th in tables_list[1].find_all(\"th\")]\n",
    "header_list.append(\"Season\")"
   ]
  },
  {
   "cell_type": "code",
   "execution_count": 231,
   "metadata": {},
   "outputs": [],
   "source": [
    "c1 = []\n",
    "c2 = []\n",
    "c3 = []\n",
    "c4 = []\n",
    "c5 = []\n",
    "c6 = []  \n",
    "c7 = []\n",
    "c8 = []\n",
    "c9 = []\n",
    "c10 = []\n",
    "lists = [c1,c2,c3,c4,c5,c6,c7,c8,c9,c10]\n",
    "\n",
    "\n",
    "\n",
    "for i in range(9):# Because we have 9 tables we would like to extract and it starts with the seconde table in our list\n",
    "    table = tables_list[i+9].find_all(\"tr\")\n",
    "    for row in table:\n",
    "        cells = row.find_all(\"td\")\n",
    "        if len(cells) == 9 or len(cells) == 8:\n",
    "            c1.append(cells[0].find(text=True).replace(r'Episode',''))\n",
    "            c2.append(cells[1].find(text=True))\n",
    "            c3.append(cells[2].find(text=True))\n",
    "            c4.append(cells[3].find(text=True))\n",
    "            c5.append(cells[4].find(text=True))\n",
    "            if len(cells) == 8:\n",
    "                c6.append(None)\n",
    "                c7.append(cells[5].find(text=True))\n",
    "                c8.append(cells[6].find(text=True))\n",
    "                c9.append(cells[7].text)\n",
    "                c10.append(9)\n",
    "            else:\n",
    "                c6.append(cells[5].find(text=True))\n",
    "                c7.append(cells[6].find(text=True))\n",
    "                c8.append(cells[7].find(text=True))\n",
    "                c9.append(cells[8].text)\n",
    "                c10.append(i+9)"
   ]
  },
  {
   "cell_type": "code",
   "execution_count": 215,
   "metadata": {},
   "outputs": [],
   "source": [
    "dictionnary = {i:j for i,j in zip(header_list, lists)}"
   ]
  },
  {
   "cell_type": "code",
   "execution_count": 216,
   "metadata": {},
   "outputs": [],
   "source": [
    "df_shark_tank_table = pd.DataFrame(dictionnary)"
   ]
  },
  {
   "cell_type": "code",
   "execution_count": 217,
   "metadata": {},
   "outputs": [],
   "source": [
    "df_shark_tank_table = df_shark_tank_table.replace(r'\\n','', regex=True).replace(r\"\\[\\d+]\",'', regex=True)"
   ]
  },
  {
   "cell_type": "markdown",
   "metadata": {},
   "source": [
    "## Getting current GBP to USD exchange rate from api"
   ]
  },
  {
   "cell_type": "code",
   "execution_count": 218,
   "metadata": {},
   "outputs": [],
   "source": [
    "rate_GBP_USD = requests.get('https://api.exchangeratesapi.io/latest?base=GBP&symbols=USD')"
   ]
  },
  {
   "cell_type": "code",
   "execution_count": 219,
   "metadata": {},
   "outputs": [
    {
     "data": {
      "text/plain": [
       "{'rates': {'USD': 1.3190324563}, 'base': 'GBP', 'date': '2020-08-27'}"
      ]
     },
     "execution_count": 219,
     "metadata": {},
     "output_type": "execute_result"
    }
   ],
   "source": [
    "resp_data = rate_GBP_USD.json()\n",
    "resp_data"
   ]
  },
  {
   "cell_type": "code",
   "execution_count": 220,
   "metadata": {},
   "outputs": [],
   "source": [
    "rate = resp_data['rates']['USD']"
   ]
  },
  {
   "cell_type": "markdown",
   "metadata": {},
   "source": [
    "## Converting the column Money requested in £ to $"
   ]
  },
  {
   "cell_type": "code",
   "execution_count": 221,
   "metadata": {},
   "outputs": [],
   "source": [
    "df_shark_tank_table[\"Money requested (£)\"] = df_shark_tank_table[\"Money requested (£)\"].replace(r\",\", \"\", regex=True).astype(float)"
   ]
  },
  {
   "cell_type": "code",
   "execution_count": 222,
   "metadata": {},
   "outputs": [],
   "source": [
    "df_shark_tank_table[\"Money requested (£)\"] = round(df_shark_tank_table[\"Money requested (£)\"] * rate).astype(int)"
   ]
  },
  {
   "cell_type": "markdown",
   "metadata": {},
   "source": [
    "## Changing the name of the columns to fit the naming convention"
   ]
  },
  {
   "cell_type": "code",
   "execution_count": 223,
   "metadata": {},
   "outputs": [],
   "source": [
    "df_shark_tank_table = df_shark_tank_table.rename(columns={\"Money requested (£)\": \"money_requested_converted_$\", \"%\" : \"stake_in_%_sold\", \"Website and Fate\" : \"fate\"})"
   ]
  },
  {
   "cell_type": "code",
   "execution_count": 224,
   "metadata": {},
   "outputs": [],
   "source": [
    "df_shark_tank_table.columns = df_shark_tank_table.columns.str.lower().str.replace(r\" \", \"_\")"
   ]
  },
  {
   "cell_type": "markdown",
   "metadata": {},
   "source": [
    "## Deleting everything in parentheses in the fate column"
   ]
  },
  {
   "cell_type": "code",
   "execution_count": 225,
   "metadata": {},
   "outputs": [
    {
     "data": {
      "text/html": [
       "<div>\n",
       "<style scoped>\n",
       "    .dataframe tbody tr th:only-of-type {\n",
       "        vertical-align: middle;\n",
       "    }\n",
       "\n",
       "    .dataframe tbody tr th {\n",
       "        vertical-align: top;\n",
       "    }\n",
       "\n",
       "    .dataframe thead th {\n",
       "        text-align: right;\n",
       "    }\n",
       "</style>\n",
       "<table border=\"1\" class=\"dataframe\">\n",
       "  <thead>\n",
       "    <tr style=\"text-align: right;\">\n",
       "      <th></th>\n",
       "      <th>episode</th>\n",
       "      <th>first_aired</th>\n",
       "      <th>entrepreneur(s)</th>\n",
       "      <th>company_or_product_name</th>\n",
       "      <th>money_requested_converted_$</th>\n",
       "      <th>stake_in_%_sold</th>\n",
       "      <th>description_of_product</th>\n",
       "      <th>investing_dragon(s)</th>\n",
       "      <th>fate</th>\n",
       "      <th>season</th>\n",
       "    </tr>\n",
       "  </thead>\n",
       "  <tbody>\n",
       "    <tr>\n",
       "      <th>0</th>\n",
       "      <td>1</td>\n",
       "      <td>31 July 2011</td>\n",
       "      <td>Georgette Hewitt</td>\n",
       "      <td>The Present Club</td>\n",
       "      <td>79142</td>\n",
       "      <td>None</td>\n",
       "      <td>A website for buying gifts for children</td>\n",
       "      <td>Peter Jones and Theo Paphitis</td>\n",
       "      <td>active</td>\n",
       "      <td>9</td>\n",
       "    </tr>\n",
       "    <tr>\n",
       "      <th>1</th>\n",
       "      <td>1</td>\n",
       "      <td>31 July 2011</td>\n",
       "      <td>Chris Hopkins</td>\n",
       "      <td>Ploughcroft Solar</td>\n",
       "      <td>158284</td>\n",
       "      <td>None</td>\n",
       "      <td>A company that installs solar panels in homes</td>\n",
       "      <td>Deborah Meaden and Theo Paphitis</td>\n",
       "      <td>active</td>\n",
       "      <td>9</td>\n",
       "    </tr>\n",
       "    <tr>\n",
       "      <th>2</th>\n",
       "      <td>2</td>\n",
       "      <td>7 August 2011</td>\n",
       "      <td>Christian Hartmann, Martin McLaughlin, Tom Cal...</td>\n",
       "      <td>Love Da Pop</td>\n",
       "      <td>92332</td>\n",
       "      <td>None</td>\n",
       "      <td>A business turning the old popcorn treat into ...</td>\n",
       "      <td>Peter Jones</td>\n",
       "      <td>active</td>\n",
       "      <td>9</td>\n",
       "    </tr>\n",
       "    <tr>\n",
       "      <th>3</th>\n",
       "      <td>2</td>\n",
       "      <td>7 August 2011</td>\n",
       "      <td>Liz and Alan Colleran</td>\n",
       "      <td>Raskelf Memory Foam (Duvalay)</td>\n",
       "      <td>105523</td>\n",
       "      <td>None</td>\n",
       "      <td>A zip-up memory foam mattress and duvet combo</td>\n",
       "      <td>Hilary Devey</td>\n",
       "      <td>active</td>\n",
       "      <td>9</td>\n",
       "    </tr>\n",
       "    <tr>\n",
       "      <th>4</th>\n",
       "      <td>3</td>\n",
       "      <td>14 August 2011</td>\n",
       "      <td>Peter and Michelle Hart</td>\n",
       "      <td>Fun Fancy Dress</td>\n",
       "      <td>131903</td>\n",
       "      <td>None</td>\n",
       "      <td>Fancy-dress shop business and franchise</td>\n",
       "      <td>Duncan Bannatyne</td>\n",
       "      <td>\\tdeal fell through after filming</td>\n",
       "      <td>9</td>\n",
       "    </tr>\n",
       "  </tbody>\n",
       "</table>\n",
       "</div>"
      ],
      "text/plain": [
       "  episode     first_aired                                    entrepreneur(s)  \\\n",
       "0       1    31 July 2011                                   Georgette Hewitt   \n",
       "1       1    31 July 2011                                      Chris Hopkins   \n",
       "2       2   7 August 2011  Christian Hartmann, Martin McLaughlin, Tom Cal...   \n",
       "3       2   7 August 2011                              Liz and Alan Colleran   \n",
       "4       3  14 August 2011                            Peter and Michelle Hart   \n",
       "\n",
       "         company_or_product_name  money_requested_converted_$ stake_in_%_sold  \\\n",
       "0               The Present Club                        79142            None   \n",
       "1              Ploughcroft Solar                       158284            None   \n",
       "2                    Love Da Pop                        92332            None   \n",
       "3  Raskelf Memory Foam (Duvalay)                       105523            None   \n",
       "4                Fun Fancy Dress                       131903            None   \n",
       "\n",
       "                              description_of_product  \\\n",
       "0            A website for buying gifts for children   \n",
       "1      A company that installs solar panels in homes   \n",
       "2  A business turning the old popcorn treat into ...   \n",
       "3      A zip-up memory foam mattress and duvet combo   \n",
       "4            Fancy-dress shop business and franchise   \n",
       "\n",
       "                investing_dragon(s)                               fate  season  \n",
       "0     Peter Jones and Theo Paphitis                             active       9  \n",
       "1  Deborah Meaden and Theo Paphitis                             active       9  \n",
       "2                       Peter Jones                             active       9  \n",
       "3                      Hilary Devey                             active       9  \n",
       "4                  Duncan Bannatyne  \\tdeal fell through after filming       9  "
      ]
     },
     "execution_count": 225,
     "metadata": {},
     "output_type": "execute_result"
    }
   ],
   "source": [
    "df_shark_tank_table[\"fate\"] = df_shark_tank_table[\"fate\"].replace(r'\\(.+\\)','', regex=True)\n",
    "df_shark_tank_table.loc[df_shark_tank_table['fate'] == \"\", 'fate'] = 'active'\n",
    "df_shark_tank_table.head()"
   ]
  },
  {
   "cell_type": "markdown",
   "metadata": {},
   "source": [
    "## In stake_in_%_sold deleting % and transfroming column to int"
   ]
  },
  {
   "cell_type": "code",
   "execution_count": 226,
   "metadata": {},
   "outputs": [],
   "source": [
    "df_shark_tank_table[\"stake_in_%_sold\"] = df_shark_tank_table[\"stake_in_%_sold\"].replace(r'%','', regex=True).str.strip()"
   ]
  },
  {
   "cell_type": "code",
   "execution_count": 227,
   "metadata": {},
   "outputs": [],
   "source": [
    "df_shark_tank_table[\"stake_in_%_sold\"] = pd.to_numeric(df_shark_tank_table[\"stake_in_%_sold\"], errors='coerce')"
   ]
  },
  {
   "cell_type": "code",
   "execution_count": 228,
   "metadata": {},
   "outputs": [],
   "source": [
    "df_shark_tank_table[\"valuation\"] = round((df_shark_tank_table['money_requested_converted_$']/df_shark_tank_table[\"stake_in_%_sold\"])*100).astype('Int32')"
   ]
  },
  {
   "cell_type": "code",
   "execution_count": 229,
   "metadata": {},
   "outputs": [
    {
     "data": {
      "text/html": [
       "<div>\n",
       "<style scoped>\n",
       "    .dataframe tbody tr th:only-of-type {\n",
       "        vertical-align: middle;\n",
       "    }\n",
       "\n",
       "    .dataframe tbody tr th {\n",
       "        vertical-align: top;\n",
       "    }\n",
       "\n",
       "    .dataframe thead th {\n",
       "        text-align: right;\n",
       "    }\n",
       "</style>\n",
       "<table border=\"1\" class=\"dataframe\">\n",
       "  <thead>\n",
       "    <tr style=\"text-align: right;\">\n",
       "      <th></th>\n",
       "      <th>episode</th>\n",
       "      <th>first_aired</th>\n",
       "      <th>entrepreneur(s)</th>\n",
       "      <th>company_or_product_name</th>\n",
       "      <th>money_requested_converted_$</th>\n",
       "      <th>stake_in_%_sold</th>\n",
       "      <th>description_of_product</th>\n",
       "      <th>investing_dragon(s)</th>\n",
       "      <th>fate</th>\n",
       "      <th>season</th>\n",
       "      <th>valuation</th>\n",
       "    </tr>\n",
       "  </thead>\n",
       "  <tbody>\n",
       "    <tr>\n",
       "      <th>0</th>\n",
       "      <td>1</td>\n",
       "      <td>31 July 2011</td>\n",
       "      <td>Georgette Hewitt</td>\n",
       "      <td>The Present Club</td>\n",
       "      <td>79142</td>\n",
       "      <td>NaN</td>\n",
       "      <td>A website for buying gifts for children</td>\n",
       "      <td>Peter Jones and Theo Paphitis</td>\n",
       "      <td>active</td>\n",
       "      <td>9</td>\n",
       "      <td>&lt;NA&gt;</td>\n",
       "    </tr>\n",
       "    <tr>\n",
       "      <th>1</th>\n",
       "      <td>1</td>\n",
       "      <td>31 July 2011</td>\n",
       "      <td>Chris Hopkins</td>\n",
       "      <td>Ploughcroft Solar</td>\n",
       "      <td>158284</td>\n",
       "      <td>NaN</td>\n",
       "      <td>A company that installs solar panels in homes</td>\n",
       "      <td>Deborah Meaden and Theo Paphitis</td>\n",
       "      <td>active</td>\n",
       "      <td>9</td>\n",
       "      <td>&lt;NA&gt;</td>\n",
       "    </tr>\n",
       "    <tr>\n",
       "      <th>2</th>\n",
       "      <td>2</td>\n",
       "      <td>7 August 2011</td>\n",
       "      <td>Christian Hartmann, Martin McLaughlin, Tom Cal...</td>\n",
       "      <td>Love Da Pop</td>\n",
       "      <td>92332</td>\n",
       "      <td>NaN</td>\n",
       "      <td>A business turning the old popcorn treat into ...</td>\n",
       "      <td>Peter Jones</td>\n",
       "      <td>active</td>\n",
       "      <td>9</td>\n",
       "      <td>&lt;NA&gt;</td>\n",
       "    </tr>\n",
       "    <tr>\n",
       "      <th>3</th>\n",
       "      <td>2</td>\n",
       "      <td>7 August 2011</td>\n",
       "      <td>Liz and Alan Colleran</td>\n",
       "      <td>Raskelf Memory Foam (Duvalay)</td>\n",
       "      <td>105523</td>\n",
       "      <td>NaN</td>\n",
       "      <td>A zip-up memory foam mattress and duvet combo</td>\n",
       "      <td>Hilary Devey</td>\n",
       "      <td>active</td>\n",
       "      <td>9</td>\n",
       "      <td>&lt;NA&gt;</td>\n",
       "    </tr>\n",
       "    <tr>\n",
       "      <th>4</th>\n",
       "      <td>3</td>\n",
       "      <td>14 August 2011</td>\n",
       "      <td>Peter and Michelle Hart</td>\n",
       "      <td>Fun Fancy Dress</td>\n",
       "      <td>131903</td>\n",
       "      <td>NaN</td>\n",
       "      <td>Fancy-dress shop business and franchise</td>\n",
       "      <td>Duncan Bannatyne</td>\n",
       "      <td>\\tdeal fell through after filming</td>\n",
       "      <td>9</td>\n",
       "      <td>&lt;NA&gt;</td>\n",
       "    </tr>\n",
       "    <tr>\n",
       "      <th>...</th>\n",
       "      <td>...</td>\n",
       "      <td>...</td>\n",
       "      <td>...</td>\n",
       "      <td>...</td>\n",
       "      <td>...</td>\n",
       "      <td>...</td>\n",
       "      <td>...</td>\n",
       "      <td>...</td>\n",
       "      <td>...</td>\n",
       "      <td>...</td>\n",
       "      <td>...</td>\n",
       "    </tr>\n",
       "    <tr>\n",
       "      <th>133</th>\n",
       "      <td>10</td>\n",
       "      <td>15 March 2020</td>\n",
       "      <td>David and Julie Gray</td>\n",
       "      <td>Viper Clip</td>\n",
       "      <td>105523</td>\n",
       "      <td>25.0</td>\n",
       "      <td>Fully Insulated Cable Staple</td>\n",
       "      <td>Deborah Meaden</td>\n",
       "      <td>active</td>\n",
       "      <td>17</td>\n",
       "      <td>422092</td>\n",
       "    </tr>\n",
       "    <tr>\n",
       "      <th>134</th>\n",
       "      <td>11</td>\n",
       "      <td>22 March 2020</td>\n",
       "      <td>Jess and Philip</td>\n",
       "      <td>Brain Fud Drinks</td>\n",
       "      <td>65952</td>\n",
       "      <td>30.0</td>\n",
       "      <td>Natural Energy Drinks</td>\n",
       "      <td>Peter Jones</td>\n",
       "      <td>active</td>\n",
       "      <td>17</td>\n",
       "      <td>219840</td>\n",
       "    </tr>\n",
       "    <tr>\n",
       "      <th>135</th>\n",
       "      <td>11</td>\n",
       "      <td>22 March 2020</td>\n",
       "      <td>Ross Lamond</td>\n",
       "      <td>Bug Bakes</td>\n",
       "      <td>65952</td>\n",
       "      <td>35.0</td>\n",
       "      <td>Insect Protein Dog Food</td>\n",
       "      <td>Touker Suleyman</td>\n",
       "      <td>active</td>\n",
       "      <td>17</td>\n",
       "      <td>188434</td>\n",
       "    </tr>\n",
       "    <tr>\n",
       "      <th>136</th>\n",
       "      <td>12</td>\n",
       "      <td>29 March 2020</td>\n",
       "      <td>Eric and Hugo</td>\n",
       "      <td>Lemuro</td>\n",
       "      <td>98927</td>\n",
       "      <td>25.0</td>\n",
       "      <td>Phone Camera Lenses</td>\n",
       "      <td>Deborah Meaden</td>\n",
       "      <td>active</td>\n",
       "      <td>17</td>\n",
       "      <td>395708</td>\n",
       "    </tr>\n",
       "    <tr>\n",
       "      <th>137</th>\n",
       "      <td>12</td>\n",
       "      <td>29 March 2020</td>\n",
       "      <td>George Hintzen</td>\n",
       "      <td>TOAD.ai</td>\n",
       "      <td>131903</td>\n",
       "      <td>10.0</td>\n",
       "      <td>Outdoor Advertising Software</td>\n",
       "      <td>Tej Lalvani</td>\n",
       "      <td>active</td>\n",
       "      <td>17</td>\n",
       "      <td>1319030</td>\n",
       "    </tr>\n",
       "  </tbody>\n",
       "</table>\n",
       "<p>138 rows × 11 columns</p>\n",
       "</div>"
      ],
      "text/plain": [
       "    episode     first_aired  \\\n",
       "0         1    31 July 2011   \n",
       "1         1    31 July 2011   \n",
       "2         2   7 August 2011   \n",
       "3         2   7 August 2011   \n",
       "4         3  14 August 2011   \n",
       "..      ...             ...   \n",
       "133      10   15 March 2020   \n",
       "134      11   22 March 2020   \n",
       "135      11   22 March 2020   \n",
       "136      12   29 March 2020   \n",
       "137      12   29 March 2020   \n",
       "\n",
       "                                       entrepreneur(s)  \\\n",
       "0                                     Georgette Hewitt   \n",
       "1                                        Chris Hopkins   \n",
       "2    Christian Hartmann, Martin McLaughlin, Tom Cal...   \n",
       "3                                Liz and Alan Colleran   \n",
       "4                              Peter and Michelle Hart   \n",
       "..                                                 ...   \n",
       "133                               David and Julie Gray   \n",
       "134                                    Jess and Philip   \n",
       "135                                        Ross Lamond   \n",
       "136                                      Eric and Hugo   \n",
       "137                                     George Hintzen   \n",
       "\n",
       "           company_or_product_name  money_requested_converted_$  \\\n",
       "0                 The Present Club                        79142   \n",
       "1                Ploughcroft Solar                       158284   \n",
       "2                      Love Da Pop                        92332   \n",
       "3    Raskelf Memory Foam (Duvalay)                       105523   \n",
       "4                  Fun Fancy Dress                       131903   \n",
       "..                             ...                          ...   \n",
       "133                     Viper Clip                       105523   \n",
       "134               Brain Fud Drinks                        65952   \n",
       "135                      Bug Bakes                        65952   \n",
       "136                         Lemuro                        98927   \n",
       "137                        TOAD.ai                       131903   \n",
       "\n",
       "     stake_in_%_sold                             description_of_product  \\\n",
       "0                NaN            A website for buying gifts for children   \n",
       "1                NaN      A company that installs solar panels in homes   \n",
       "2                NaN  A business turning the old popcorn treat into ...   \n",
       "3                NaN      A zip-up memory foam mattress and duvet combo   \n",
       "4                NaN            Fancy-dress shop business and franchise   \n",
       "..               ...                                                ...   \n",
       "133             25.0                       Fully Insulated Cable Staple   \n",
       "134             30.0                              Natural Energy Drinks   \n",
       "135             35.0                            Insect Protein Dog Food   \n",
       "136             25.0                                Phone Camera Lenses   \n",
       "137             10.0                       Outdoor Advertising Software   \n",
       "\n",
       "                  investing_dragon(s)                               fate  \\\n",
       "0       Peter Jones and Theo Paphitis                             active   \n",
       "1    Deborah Meaden and Theo Paphitis                             active   \n",
       "2                         Peter Jones                             active   \n",
       "3                        Hilary Devey                             active   \n",
       "4                    Duncan Bannatyne  \\tdeal fell through after filming   \n",
       "..                                ...                                ...   \n",
       "133                    Deborah Meaden                             active   \n",
       "134                       Peter Jones                             active   \n",
       "135                   Touker Suleyman                             active   \n",
       "136                    Deborah Meaden                             active   \n",
       "137                       Tej Lalvani                             active   \n",
       "\n",
       "     season  valuation  \n",
       "0         9       <NA>  \n",
       "1         9       <NA>  \n",
       "2         9       <NA>  \n",
       "3         9       <NA>  \n",
       "4         9       <NA>  \n",
       "..      ...        ...  \n",
       "133      17     422092  \n",
       "134      17     219840  \n",
       "135      17     188434  \n",
       "136      17     395708  \n",
       "137      17    1319030  \n",
       "\n",
       "[138 rows x 11 columns]"
      ]
     },
     "execution_count": 229,
     "metadata": {},
     "output_type": "execute_result"
    }
   ],
   "source": [
    "df_shark_tank_table"
   ]
  },
  {
   "cell_type": "markdown",
   "metadata": {},
   "source": [
    "# Exporting the DataFrame as a .csv file"
   ]
  },
  {
   "cell_type": "code",
   "execution_count": 230,
   "metadata": {},
   "outputs": [],
   "source": [
    "df_shark_tank_table.to_csv('Dragons_den_web_scrape_wikipedia.csv', index = False)"
   ]
  },
  {
   "cell_type": "code",
   "execution_count": null,
   "metadata": {},
   "outputs": [],
   "source": []
  },
  {
   "cell_type": "code",
   "execution_count": null,
   "metadata": {},
   "outputs": [],
   "source": []
  }
 ],
 "metadata": {
  "kernelspec": {
   "display_name": "Python 3",
   "language": "python",
   "name": "python3"
  },
  "language_info": {
   "codemirror_mode": {
    "name": "ipython",
    "version": 3
   },
   "file_extension": ".py",
   "mimetype": "text/x-python",
   "name": "python",
   "nbconvert_exporter": "python",
   "pygments_lexer": "ipython3",
   "version": "3.8.5"
  }
 },
 "nbformat": 4,
 "nbformat_minor": 4
}
